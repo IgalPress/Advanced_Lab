{
 "cells": [
  {
   "cell_type": "code",
   "execution_count": 7,
   "id": "780607de",
   "metadata": {
    "scrolled": true
   },
   "outputs": [
    {
     "name": "stdout",
     "output_type": "stream",
     "text": [
      "Available resources:\n",
      "('USB0::0x1AB1::0x0C94::DM3O225000989::INSTR', 'USB0::0x0957::0x0A07::MY48002584::INSTR')\n",
      "\n"
     ]
    },
    {
     "ename": "VisaIOError",
     "evalue": "VI_ERROR_RSRC_NFOUND (-1073807343): Insufficient location information or the requested device or resource is not present in the system.",
     "output_type": "error",
     "traceback": [
      "\u001b[1;31m---------------------------------------------------------------------------\u001b[0m",
      "\u001b[1;31mVisaIOError\u001b[0m                               Traceback (most recent call last)",
      "\u001b[1;32m~\\AppData\\Local\\Temp/ipykernel_24480/1964166938.py\u001b[0m in \u001b[0;36m<module>\u001b[1;34m\u001b[0m\n\u001b[0;32m     21\u001b[0m \u001b[1;33m\u001b[0m\u001b[0m\n\u001b[0;32m     22\u001b[0m \u001b[1;31m# Connect to specific devices\u001b[0m\u001b[1;33m\u001b[0m\u001b[1;33m\u001b[0m\u001b[0m\n\u001b[1;32m---> 23\u001b[1;33m \u001b[0mscope\u001b[0m \u001b[1;33m=\u001b[0m \u001b[0mrm\u001b[0m\u001b[1;33m.\u001b[0m\u001b[0mopen_resource\u001b[0m\u001b[1;33m(\u001b[0m\u001b[1;34m\"USB0::0x0957::0x1798::MY51330365::INSTR\"\u001b[0m\u001b[1;33m)\u001b[0m\u001b[1;33m\u001b[0m\u001b[1;33m\u001b[0m\u001b[0m\n\u001b[0m\u001b[0;32m     24\u001b[0m \u001b[0mfunction_generator\u001b[0m \u001b[1;33m=\u001b[0m \u001b[0mrm\u001b[0m\u001b[1;33m.\u001b[0m\u001b[0mopen_resource\u001b[0m\u001b[1;33m(\u001b[0m\u001b[1;34m\"USB0::0x1AB1::0x0642::DG1ZA213804150::INSTR\"\u001b[0m\u001b[1;33m)\u001b[0m\u001b[1;33m\u001b[0m\u001b[1;33m\u001b[0m\u001b[0m\n\u001b[0;32m     25\u001b[0m \u001b[1;33m\u001b[0m\u001b[0m\n",
      "\u001b[1;32m~\\anaconda3\\lib\\site-packages\\pyvisa\\highlevel.py\u001b[0m in \u001b[0;36mopen_resource\u001b[1;34m(self, resource_name, access_mode, open_timeout, resource_pyclass, **kwargs)\u001b[0m\n\u001b[0;32m   3282\u001b[0m                     )\n\u001b[0;32m   3283\u001b[0m \u001b[1;33m\u001b[0m\u001b[0m\n\u001b[1;32m-> 3284\u001b[1;33m             \u001b[0mres\u001b[0m\u001b[1;33m.\u001b[0m\u001b[0mopen\u001b[0m\u001b[1;33m(\u001b[0m\u001b[0maccess_mode\u001b[0m\u001b[1;33m,\u001b[0m \u001b[0mopen_timeout\u001b[0m\u001b[1;33m)\u001b[0m\u001b[1;33m\u001b[0m\u001b[1;33m\u001b[0m\u001b[0m\n\u001b[0m\u001b[0;32m   3285\u001b[0m \u001b[1;33m\u001b[0m\u001b[0m\n\u001b[0;32m   3286\u001b[0m             \u001b[1;32mfor\u001b[0m \u001b[0mkey\u001b[0m\u001b[1;33m,\u001b[0m \u001b[0mvalue\u001b[0m \u001b[1;32min\u001b[0m \u001b[0mkwargs\u001b[0m\u001b[1;33m.\u001b[0m\u001b[0mitems\u001b[0m\u001b[1;33m(\u001b[0m\u001b[1;33m)\u001b[0m\u001b[1;33m:\u001b[0m\u001b[1;33m\u001b[0m\u001b[1;33m\u001b[0m\u001b[0m\n",
      "\u001b[1;32m~\\anaconda3\\lib\\site-packages\\pyvisa\\resources\\resource.py\u001b[0m in \u001b[0;36mopen\u001b[1;34m(self, access_mode, open_timeout)\u001b[0m\n\u001b[0;32m    280\u001b[0m             \u001b[0mconstants\u001b[0m\u001b[1;33m.\u001b[0m\u001b[0mStatusCode\u001b[0m\u001b[1;33m.\u001b[0m\u001b[0msuccess_device_not_present\u001b[0m\u001b[1;33m\u001b[0m\u001b[1;33m\u001b[0m\u001b[0m\n\u001b[0;32m    281\u001b[0m         ):\n\u001b[1;32m--> 282\u001b[1;33m             self.session, status = self._resource_manager.open_bare_resource(\n\u001b[0m\u001b[0;32m    283\u001b[0m                 \u001b[0mself\u001b[0m\u001b[1;33m.\u001b[0m\u001b[0m_resource_name\u001b[0m\u001b[1;33m,\u001b[0m \u001b[0maccess_mode\u001b[0m\u001b[1;33m,\u001b[0m \u001b[0mopen_timeout\u001b[0m\u001b[1;33m\u001b[0m\u001b[1;33m\u001b[0m\u001b[0m\n\u001b[0;32m    284\u001b[0m             )\n",
      "\u001b[1;32m~\\anaconda3\\lib\\site-packages\\pyvisa\\highlevel.py\u001b[0m in \u001b[0;36mopen_bare_resource\u001b[1;34m(self, resource_name, access_mode, open_timeout)\u001b[0m\n\u001b[0;32m   3207\u001b[0m \u001b[1;33m\u001b[0m\u001b[0m\n\u001b[0;32m   3208\u001b[0m         \"\"\"\n\u001b[1;32m-> 3209\u001b[1;33m         \u001b[1;32mreturn\u001b[0m \u001b[0mself\u001b[0m\u001b[1;33m.\u001b[0m\u001b[0mvisalib\u001b[0m\u001b[1;33m.\u001b[0m\u001b[0mopen\u001b[0m\u001b[1;33m(\u001b[0m\u001b[0mself\u001b[0m\u001b[1;33m.\u001b[0m\u001b[0msession\u001b[0m\u001b[1;33m,\u001b[0m \u001b[0mresource_name\u001b[0m\u001b[1;33m,\u001b[0m \u001b[0maccess_mode\u001b[0m\u001b[1;33m,\u001b[0m \u001b[0mopen_timeout\u001b[0m\u001b[1;33m)\u001b[0m\u001b[1;33m\u001b[0m\u001b[1;33m\u001b[0m\u001b[0m\n\u001b[0m\u001b[0;32m   3210\u001b[0m \u001b[1;33m\u001b[0m\u001b[0m\n\u001b[0;32m   3211\u001b[0m     def open_resource(\n",
      "\u001b[1;32m~\\anaconda3\\lib\\site-packages\\pyvisa\\ctwrapper\\functions.py\u001b[0m in \u001b[0;36mopen\u001b[1;34m(library, session, resource_name, access_mode, open_timeout)\u001b[0m\n\u001b[0;32m   1849\u001b[0m     \u001b[1;31m# [ViSession, ViRsrc, ViAccessMode, ViUInt32, ViPSession]\u001b[0m\u001b[1;33m\u001b[0m\u001b[1;33m\u001b[0m\u001b[0m\n\u001b[0;32m   1850\u001b[0m     \u001b[1;31m# ViRsrc converts from (str, unicode, bytes) to bytes\u001b[0m\u001b[1;33m\u001b[0m\u001b[1;33m\u001b[0m\u001b[0m\n\u001b[1;32m-> 1851\u001b[1;33m     ret = library.viOpen(\n\u001b[0m\u001b[0;32m   1852\u001b[0m         \u001b[0msession\u001b[0m\u001b[1;33m,\u001b[0m \u001b[0mresource_name\u001b[0m\u001b[1;33m,\u001b[0m \u001b[0maccess_mode\u001b[0m\u001b[1;33m,\u001b[0m \u001b[0mopen_timeout\u001b[0m\u001b[1;33m,\u001b[0m \u001b[0mbyref\u001b[0m\u001b[1;33m(\u001b[0m\u001b[0mout_session\u001b[0m\u001b[1;33m)\u001b[0m\u001b[1;33m\u001b[0m\u001b[1;33m\u001b[0m\u001b[0m\n\u001b[0;32m   1853\u001b[0m     )\n",
      "\u001b[1;32m~\\anaconda3\\lib\\site-packages\\pyvisa\\ctwrapper\\highlevel.py\u001b[0m in \u001b[0;36m_return_handler\u001b[1;34m(self, ret_value, func, arguments)\u001b[0m\n\u001b[0;32m    224\u001b[0m                 \u001b[0msession\u001b[0m \u001b[1;33m=\u001b[0m \u001b[1;32mNone\u001b[0m\u001b[1;33m\u001b[0m\u001b[1;33m\u001b[0m\u001b[0m\n\u001b[0;32m    225\u001b[0m \u001b[1;33m\u001b[0m\u001b[0m\n\u001b[1;32m--> 226\u001b[1;33m         \u001b[1;32mreturn\u001b[0m \u001b[0mself\u001b[0m\u001b[1;33m.\u001b[0m\u001b[0mhandle_return_value\u001b[0m\u001b[1;33m(\u001b[0m\u001b[0msession\u001b[0m\u001b[1;33m,\u001b[0m \u001b[0mret_value\u001b[0m\u001b[1;33m)\u001b[0m  \u001b[1;31m# type: ignore\u001b[0m\u001b[1;33m\u001b[0m\u001b[1;33m\u001b[0m\u001b[0m\n\u001b[0m\u001b[0;32m    227\u001b[0m \u001b[1;33m\u001b[0m\u001b[0m\n\u001b[0;32m    228\u001b[0m     def list_resources(\n",
      "\u001b[1;32m~\\anaconda3\\lib\\site-packages\\pyvisa\\highlevel.py\u001b[0m in \u001b[0;36mhandle_return_value\u001b[1;34m(self, session, status_code)\u001b[0m\n\u001b[0;32m    249\u001b[0m \u001b[1;33m\u001b[0m\u001b[0m\n\u001b[0;32m    250\u001b[0m         \u001b[1;32mif\u001b[0m \u001b[0mrv\u001b[0m \u001b[1;33m<\u001b[0m \u001b[1;36m0\u001b[0m\u001b[1;33m:\u001b[0m\u001b[1;33m\u001b[0m\u001b[1;33m\u001b[0m\u001b[0m\n\u001b[1;32m--> 251\u001b[1;33m             \u001b[1;32mraise\u001b[0m \u001b[0merrors\u001b[0m\u001b[1;33m.\u001b[0m\u001b[0mVisaIOError\u001b[0m\u001b[1;33m(\u001b[0m\u001b[0mrv\u001b[0m\u001b[1;33m)\u001b[0m\u001b[1;33m\u001b[0m\u001b[1;33m\u001b[0m\u001b[0m\n\u001b[0m\u001b[0;32m    252\u001b[0m \u001b[1;33m\u001b[0m\u001b[0m\n\u001b[0;32m    253\u001b[0m         \u001b[1;32mif\u001b[0m \u001b[0mrv\u001b[0m \u001b[1;32min\u001b[0m \u001b[0mself\u001b[0m\u001b[1;33m.\u001b[0m\u001b[0missue_warning_on\u001b[0m\u001b[1;33m:\u001b[0m\u001b[1;33m\u001b[0m\u001b[1;33m\u001b[0m\u001b[0m\n",
      "\u001b[1;31mVisaIOError\u001b[0m: VI_ERROR_RSRC_NFOUND (-1073807343): Insufficient location information or the requested device or resource is not present in the system."
     ]
    }
   ],
   "source": [
    "import pyvisa as visa\n",
    "from datetime import datetime\n",
    "import numpy as np\n",
    "import time\n",
    "import matplotlib.pyplot as plt\n",
    "\n",
    "\n",
    "###############################################################################\n",
    "# Basics of using Virtual Instrument Software Architecture (VISA) to connect to\n",
    "# instruments and sending Standard Commands for Programmable Instruments (SCPI)\n",
    "# commands.\n",
    "###############################################################################\n",
    "\n",
    "# Instantiate the VISA Resource Manager\n",
    "rm = visa.ResourceManager()\n",
    "\n",
    "# Print the available resources\n",
    "print(\"Available resources:\")\n",
    "print(rm.list_resources())\n",
    "print(\"\")\n",
    "\n",
    "# Connect to specific devices\n",
    "scope = rm.open_resource(\"USB0::0x0957::0x1798::MY51330365::INSTR\")\n",
    "function_generator = rm.open_resource(\"USB0::0x1AB1::0x0642::DG1ZA213804150::INSTR\")\n",
    "\n",
    "# There are 3 ways to transfer data between our PC and an instrument\n",
    "#   write: send data from the PC to the instrument\n",
    "#    read: request data from the instrument to the PC\n",
    "#   query: perform a write followed by a read\n",
    "# SCPI commands that generate a response end with a '?'\n",
    "\n",
    "# Query the identity of the instruments. This typically contains information\n",
    "# like the manufacturer, model number, and serial number.\n",
    "scope_id = scope.query(\"*IDN?\")\n",
    "function_generator_id = function_generator.query(\"*IDN?\")\n",
    "\n",
    "# When the devices report their identification, there is newline character at\n",
    "# the end. The following removes it.\n",
    "scope_id = scope_id.rstrip(\"\\n\")\n",
    "function_generator_id = function_generator_id.rstrip(\"\\n\")\n",
    "\n",
    "print(f\"Hello, I am a {scope_id}\")\n",
    "print(f\"And I am a {function_generator_id}\")\n",
    "print(\"Instruments are ready to go!\\n\")\n",
    "\n",
    "\n",
    "function_generator.write(\"OUTP1 ON\")\n",
    "function_generator.write(\":SOUR1:FREQ 20000\")\n",
    "function_generator.write(\":SOUR1:VOLT 10\")\n",
    "#function_generator.read()\n",
    "#function_generator.write(\":SOUR1:PER 100\")\n",
    "\n",
    "# Parameters for the experiment\n",
    "min_frequency  =  3  # Hz\n",
    "max_frequency  =  5.301029995664  # Hz\n",
    "step_frequency =  50  # Hz\n",
    "\n",
    "# Generate the frequencies we want to sweep over\n",
    "#set_frequencies = np.arange(min_frequency, max_frequency, step_frequency)\n",
    "set_frequencies = np.logspace(min_frequency, max_frequency, step_frequency)\n",
    "\n",
    "data = np.empty((set_frequencies.shape[0], 3)).astype(np.float32)\n",
    "data[:,0] = set_frequencies\n",
    "\n",
    "scope.write(\"TRIG:SOUR CHAN4\")\n",
    "\n",
    "scope.write(\":CHAN2:SCAL 1mV\")\n",
    "scope.write(\":CHAN1:SCAL 1mV\")\n",
    "scope.write(\":FUNC:SCAL 1mV\")\n",
    "\n",
    "print(\"Frequency \\t VAmplitude \\t Phase M->4 \")\n",
    "scope.write(\":MEASURE:SOURCE CHANNEL1\")\n",
    "for datum in data:\n",
    "\t\tfunction_generator.write(f\":SOURCE1:FREQUENCY {datum[0]}\")\n",
    "\t\tscope.write(f\":MEAS:VAMP MATH {datum[0]}\")\n",
    "\t\ttscale = str(5/datum[0])\n",
    "\t\tscope.write(\":TIM:RANG \" + tscale)\n",
    "\t\ttime.sleep(0.5)\n",
    "\t\tscope.write(\"STOP\")\n",
    "\t\tdatum[1] = scope.query(\":MEASure:PHASe? MATH, CHAN4\").rstrip(\"\\n\")\n",
    "\t\tdatum[2] = scope.query(f\":MEAS:VAMP? MATH\")\n",
    "\t\tif datum[2] < 0.005:\n",
    "\t\t\tscope.write(\":FUNC:SCAL 1mV\")\n",
    "\t\telif 0.005 <= datum[2] <= 0.015 :\n",
    "\t\t\tscope.write(\":FUNC:SCAL 3mV\")\n",
    "\t\telse:\n",
    "\t\t\tscope.write(\":FUNC:SCAL 10mV\")\n",
    "\t\tif datum[2] > 0.015:\n",
    "\t\t\tscope.write(\":CHAN2:SCAL 5mV\")\n",
    "\t\t\tscope.write(\":CHAN1:SCAL 5mV\")\n",
    "\t\t\tscope.write(\":FUNC:SCAL 3mV\")\n",
    "\t\telse:\n",
    "\t\t\tscope.write(\":CHAN2:SCAL 2mV\")\n",
    "\t\t\tscope.write(\":CHAN1:SCAL 2mV\")\n",
    "\t\t# The 18 and 23 are field (column) widths to keep the output aligned\n",
    "\t\t# The < means to left align in the column\n",
    "\t\tdatumround = np.round(datum[0], 1)\n",
    "\t\tprint(f\"{datumround:<18}\\t{datum[2]:<23}\\t{datum[1]:<23}\")\n",
    "\t\tscope.write(\"RUN\")\n",
    "        \n",
    "now = datetime.now()\n",
    "timestamp = now.strftime(\"%d/%m/%Y %H:%M:%S\")\n",
    "\n",
    "#Output the data into a CSV file with a header\n",
    "with open(\"NormIn.csv\", \"w\") as fp:\n",
    "\tfp.write(f\"%{timestamp}\\n\")\n",
    "\tfp.write(f\"%Oscilloscope: {scope_id}\\n\")\n",
    "\tfp.write(f\"%Function Generator: {function_generator_id}\\n\")\n",
    "\tfp.write(\"%Frequency,PHASE M->4,VAmplitude\\n\")\n",
    "\tnp.savetxt(fp, data, delimiter=\",\")\n"
   ]
  },
  {
   "cell_type": "code",
   "execution_count": 2,
   "id": "68c6f8f4",
   "metadata": {},
   "outputs": [
    {
     "name": "stdout",
     "output_type": "stream",
     "text": [
      "0.9843406583159575\n"
     ]
    },
    {
     "data": {
      "text/plain": [
       "<matplotlib.collections.PathCollection at 0x27d87155610>"
      ]
     },
     "execution_count": 2,
     "metadata": {},
     "output_type": "execute_result"
    },
    {
     "data": {
      "image/png": "[encoded data removed]",
      "text/plain": [
       "<Figure size 432x288 with 1 Axes>"
      ]
     },
     "metadata": {
      "needs_background": "light"
     },
     "output_type": "display_data"
    }
   ],
   "source": [
    "from scipy import stats\n",
    "phase = np.transpose(data[:, 1].tolist())\n",
    "amp = np.transpose(data[:, 2].tolist())\n",
    "freq = np.transpose(data[:, 0].tolist())\n",
    "\n",
    "slope, intercept, r, p, std_err = stats.linregress(phase, amp)\n",
    "print(r**2)\n",
    "plt.scatter(phase, amp)"
   ]
  },
  {
   "cell_type": "code",
   "execution_count": 16,
   "id": "15683e3a",
   "metadata": {},
   "outputs": [
    {
     "data": {
      "text/plain": [
       "18"
      ]
     },
     "execution_count": 16,
     "metadata": {},
     "output_type": "execute_result"
    }
   ],
   "source": []
  }
 ],
 "metadata": {
  "kernelspec": {
   "display_name": "Python 3 (ipykernel)",
   "language": "python",
   "name": "python3"
  },
  "language_info": {
   "codemirror_mode": {
    "name": "ipython",
    "version": 3
   },
   "file_extension": ".py",
   "mimetype": "text/x-python",
   "name": "python",
   "nbconvert_exporter": "python",
   "pygments_lexer": "ipython3",
   "version": "3.9.7"
  }
 },
 "nbformat": 4,
 "nbformat_minor": 5
}
