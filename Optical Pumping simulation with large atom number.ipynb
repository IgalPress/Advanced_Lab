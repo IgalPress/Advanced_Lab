{
 "cells": [
  {
   "cell_type": "code",
   "execution_count": 1,
   "id": "dedcedc0",
   "metadata": {},
   "outputs": [
    {
     "name": "stdout",
     "output_type": "stream",
     "text": [
      "[0.84741106 2.81037013 0.17135005]\n"
     ]
    },
    {
     "data": {
      "text/plain": [
       "Text(0, 0.5, 'Percent at n=2')"
      ]
     },
     "execution_count": 1,
     "metadata": {},
     "output_type": "execute_result"
    },
    {
     "data": {
      "image/png": "[encoded data removed]",
      "text/plain": [
       "<Figure size 432x288 with 1 Axes>"
      ]
     },
     "metadata": {
      "needs_background": "light"
     },
     "output_type": "display_data"
    }
   ],
   "source": [
    "import numpy as np\n",
    "import matplotlib.pyplot as plt\n",
    "import random\n",
    "import pandas as pd\n",
    "from scipy.optimize import curve_fit\n",
    "\n",
    "\n",
    "Rbnum = 10000\n",
    "pumpsteps = np.empty(Rbnum)\n",
    "\n",
    "for i in range(Rbnum):\n",
    "    count = 0\n",
    "    M = random.randint(-2, 2)\n",
    "    while M != 2:\n",
    "        M = M+1\n",
    "        if M == 2:\n",
    "            inc = random.randint(-1, 0)\n",
    "        else:\n",
    "            inc = random.randint(-1, 1)\n",
    "        M = M + inc\n",
    "        count = count + 1\n",
    "    pumpsteps[i] = count\n",
    "pumpsteps = pd.DataFrame(pumpsteps)\n",
    "y = pumpsteps.value_counts()\n",
    "y = y/Rbnum\n",
    "fracat2 = np.zeros(0)\n",
    "sum = 0;\n",
    "y = np.array(y)\n",
    "fracat2 = np.zeros(0)\n",
    "for i in range(len(y)):\n",
    "    y=sorted(y, reverse=True)\n",
    "    sum = sum + y[i]\n",
    "    fracat2 = np.append(fracat2, sum)\n",
    "y = pd.DataFrame(y)\n",
    "z = np.zeros(0)\n",
    "z = np.append(z, y.index)\n",
    "plt.scatter(z, fracat2)\n",
    "\n",
    "\n",
    "def capacitor_charge(t, a, tau, c):\n",
    "    return a * (1 - np.exp(-t/tau)) + c\n",
    "\n",
    "popt, pcov = curve_fit(capacitor_charge, z, fracat2)\n",
    "\n",
    "minfit = np.linspace(0, z+1, 64)\n",
    "\n",
    "print(popt)\n",
    "\n",
    "plt.ylim(0.1, 1.1)\n",
    "plt.xlim(-0.5, 15)\n",
    "\n",
    "plt.plot(minfit, capacitor_charge(minfit, *popt), 'r-', label='fit')\n",
    "plt.plot(z, fracat2, 'bo') #data\n",
    "plt.text(0, 1, f'n =  {Rbnum}')\n",
    "plt.xlabel('Number of pumping steps')\n",
    "plt.ylabel('Percent at n=2')\n",
    "#plt.savefig(\"q2b.png\")"
   ]
  },
  {
   "cell_type": "code",
   "execution_count": null,
   "id": "115466a1",
   "metadata": {},
   "outputs": [],
   "source": []
  }
 ],
 "metadata": {
  "kernelspec": {
   "display_name": "Python 3 (ipykernel)",
   "language": "python",
   "name": "python3"
  },
  "language_info": {
   "codemirror_mode": {
    "name": "ipython",
    "version": 3
   },
   "file_extension": ".py",
   "mimetype": "text/x-python",
   "name": "python",
   "nbconvert_exporter": "python",
   "pygments_lexer": "ipython3",
   "version": "3.9.7"
  }
 },
 "nbformat": 4,
 "nbformat_minor": 5
}
